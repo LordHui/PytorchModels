{
 "cells": [
  {
   "cell_type": "code",
   "execution_count": null,
   "metadata": {},
   "outputs": [],
   "source": [
    "import numpy as np\n",
    "import matplotlib.pyplot as plt\n",
    "%matplotlib inline\n",
    "\n",
    "import h5py"
   ]
  },
  {
   "cell_type": "code",
   "execution_count": null,
   "metadata": {},
   "outputs": [],
   "source": [
    "from torch.autograd import Variable\n",
    "import torch.nn as nn\n",
    "import torch.nn.functional as F\n",
    "import torch\n",
    "import torchvision\n",
    "import torchvision.transforms as transforms\n",
    "import torch.optim as optim\n",
    "\n",
    "from torch.utils.data import TensorDataset, DataLoader"
   ]
  },
  {
   "cell_type": "markdown",
   "metadata": {},
   "source": [
    "## Import Model"
   ]
  },
  {
   "cell_type": "code",
   "execution_count": null,
   "metadata": {},
   "outputs": [],
   "source": [
    "from FBPConvNet import FBPConvNet"
   ]
  },
  {
   "cell_type": "markdown",
   "metadata": {},
   "source": [
    "## Import train_net"
   ]
  },
  {
   "cell_type": "code",
   "execution_count": null,
   "metadata": {},
   "outputs": [],
   "source": [
    "# Import train_net\n",
    "import sys\n",
    "sys.path.append('../')\n",
    "from net_utils import train_net"
   ]
  },
  {
   "cell_type": "markdown",
   "metadata": {},
   "source": [
    "# Load Data"
   ]
  },
  {
   "cell_type": "code",
   "execution_count": null,
   "metadata": {},
   "outputs": [],
   "source": [
    "# set path to data\n",
    "pathtodata = '../data/LineEllipses20.hdf5'\n",
    "batch_size = 4"
   ]
  },
  {
   "cell_type": "code",
   "execution_count": null,
   "metadata": {},
   "outputs": [],
   "source": [
    "f = h5py.File(pathtodata,'r')\n",
    "trainingset = f['training']\n",
    "training_data = f['training/training_data']\n",
    "training_labels = f['training/training_labels']"
   ]
  },
  {
   "cell_type": "code",
   "execution_count": null,
   "metadata": {},
   "outputs": [],
   "source": [
    "trainset = TensorDataset(torch.Tensor(training_data[:5000]).unsqueeze(1),\n",
    "                        torch.Tensor(training_labels[:5000]).unsqueeze(1))\n",
    "testset = TensorDataset(torch.Tensor(training_data[5000:8000]).unsqueeze(1),\n",
    "                        torch.Tensor(training_labels[5000:8000]).unsqueeze(1))"
   ]
  },
  {
   "cell_type": "code",
   "execution_count": null,
   "metadata": {},
   "outputs": [],
   "source": [
    "f.close()"
   ]
  },
  {
   "cell_type": "code",
   "execution_count": null,
   "metadata": {},
   "outputs": [],
   "source": [
    "trainloader = DataLoader(trainset, batch_size=batch_size,shuffle=True)\n",
    "testloader = DataLoader(testset, batch_size=4,shuffle=False)"
   ]
  },
  {
   "cell_type": "markdown",
   "metadata": {},
   "source": [
    "# Train Net"
   ]
  },
  {
   "cell_type": "code",
   "execution_count": null,
   "metadata": {},
   "outputs": [],
   "source": [
    "num_epochs = 500\n",
    "GPU = torch.cuda.is_available()\n",
    "print('Using GPU:',GPU)\n",
    "\n",
    "# save path for trained models\n",
    "weightpath = './weights/'\n",
    "\n",
    "# save every x epochs\n",
    "save_epoch = 50"
   ]
  },
  {
   "cell_type": "code",
   "execution_count": null,
   "metadata": {},
   "outputs": [],
   "source": [
    "net = FBPConvNet()\n",
    "if GPU:\n",
    "    net = net.cuda()"
   ]
  },
  {
   "cell_type": "code",
   "execution_count": null,
   "metadata": {},
   "outputs": [],
   "source": [
    "train_net(net,trainloader,num_epochs,GPU,weightpath=weightpath,\n",
    "         save_epoch=save_epoch,lr=0.01,momentum=0.99,saveweights=True)"
   ]
  },
  {
   "cell_type": "markdown",
   "metadata": {
    "collapsed": true
   },
   "source": [
    "# Test Net\n",
    "uncomment first cell to load already trained net"
   ]
  },
  {
   "cell_type": "code",
   "execution_count": null,
   "metadata": {},
   "outputs": [],
   "source": [
    "# weightspath = '../epoch_500.weights'\n",
    "# checkpoint = torch.load(weightspath)\n",
    "# net.load_state_dict(checkpoint)"
   ]
  },
  {
   "cell_type": "code",
   "execution_count": null,
   "metadata": {},
   "outputs": [],
   "source": [
    "testiter = iter(testloader)"
   ]
  },
  {
   "cell_type": "code",
   "execution_count": null,
   "metadata": {},
   "outputs": [],
   "source": [
    "imgs,labels = testiter.next()\n",
    "num = imgs.size(0)\n",
    "if GPU:\n",
    "    est_imgs = net.forward(Variable(imgs.cuda()))\n",
    "    est_imgs = est_imgs.cpu().data\n",
    "else:\n",
    "    est_imgs = net.forward(Variable(imgs))\n",
    "\n",
    "plt.figure(figsize=(12,4*num))\n",
    "for i in range(num):\n",
    "    mse =torch.mean((imgs[i,0,:,:]-labels[i,0,:,:])**2)\n",
    "    plt.subplot(num,3,3*i+1)\n",
    "    plt.imshow(imgs[i,0,:,:].numpy())\n",
    "    plt.title('Noisy %i, MSE=%.4f' % (i,mse))\n",
    "    plt.axis('off')\n",
    "    \n",
    "    mse =torch.mean((est_imgs[i,0,:,:]-labels[i,0,:,:])**2)\n",
    "    \n",
    "    plt.subplot(num,3,3*i+2)\n",
    "    plt.imshow(est_imgs[i,0,:,:].numpy())\n",
    "    plt.title('Pred %i, MSE = %.4f' % (i, mse))\n",
    "    plt.axis('off')\n",
    "    \n",
    "    plt.subplot(num,3,3*i+3)\n",
    "    plt.imshow(labels[i,0,:,:].numpy())\n",
    "    plt.title('Ground Truth %i' % (i))\n",
    "    plt.axis('off')\n"
   ]
  },
  {
   "cell_type": "code",
   "execution_count": null,
   "metadata": {},
   "outputs": [],
   "source": []
  }
 ],
 "metadata": {
  "kernelspec": {
   "display_name": "Python [conda env:pytorch]",
   "language": "python",
   "name": "conda-env-pytorch-py"
  },
  "language_info": {
   "codemirror_mode": {
    "name": "ipython",
    "version": 3
   },
   "file_extension": ".py",
   "mimetype": "text/x-python",
   "name": "python",
   "nbconvert_exporter": "python",
   "pygments_lexer": "ipython3",
   "version": "3.6.5"
  }
 },
 "nbformat": 4,
 "nbformat_minor": 1
}
